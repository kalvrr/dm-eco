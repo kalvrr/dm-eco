{
 "cells": [
  {
   "cell_type": "code",
   "execution_count": 17,
   "metadata": {},
   "outputs": [
    {
     "name": "stderr",
     "output_type": "stream",
     "text": [
      "C:\\Users\\clair\\AppData\\Local\\Temp\\ipykernel_13772\\3101089160.py:39: UserWarning: No artists with labels found to put in legend.  Note that artists whose label start with an underscore are ignored when legend() is called with no argument.\n",
      "  plt.legend(fontsize=12)\n"
     ]
    },
    {
     "data": {
      "image/png": "[encoded data removed]",
      "text/plain": [
       "<Figure size 800x400 with 1 Axes>"
      ]
     },
     "metadata": {},
     "output_type": "display_data"
    }
   ],
   "source": [
    "import numpy as np\n",
    "import matplotlib.pyplot as plt\n",
    "\n",
    "# Parameter\n",
    "\n",
    "g = 0.2  # Initial value of g\n",
    "increase_g = input(\"Increase in g: \")  #\n",
    "increase_g = float(increase_g)  # Convert to float\n",
    "\n",
    "# Capital grid\n",
    "k = np.linspace(0, 10, 500)\n",
    "\n",
    "# Definition of the values of g.\n",
    "initial_value = g\n",
    "increased_value = initial_value + increase_g\n",
    "\n",
    "# Plot\n",
    "plt.figure(figsize=(8, 4))\n",
    "\n",
    "# Axes\n",
    "plt.axhline(0, color=\"black\", linewidth=0.5)  # Horizontal axis\n",
    "plt.axvline(0, color=\"black\", linewidth=0.5)  # Vertical axis\n",
    "plt.ylim(0, 1)\n",
    "\n",
    "# Lines\n",
    "plt.hlines(increased_value, 3, 8, colors='blue', linestyles='solid')\n",
    "plt.hlines(initial_value, 0, 3, colors='black', linestyles='solid')\n",
    "\n",
    "# Labels\n",
    "plt.xlabel(\"t\", fontsize=14)\n",
    "plt.ylabel(\"g\", fontsize=14)\n",
    "\n",
    "# Annotations\n",
    "# plt.annotate(\"Output Level\", xy=(8, output_level), xytext=(7, output_level + 0.1), fontsize=12, color='blue')\n",
    "# plt.annotate(\"Depreciation Level\", xy=(3, depreciation_level), xytext=(4, depreciation_level + 0.1), fontsize=12, color='black')\n",
    "\n",
    "# Display\n",
    "plt.grid(alpha=0.3)\n",
    "plt.legend(fontsize=12)\n",
    "plt.tight_layout()\n",
    "plt.show()\n"
   ]
  }
 ],
 "metadata": {
  "kernelspec": {
   "display_name": "Python 3",
   "language": "python",
   "name": "python3"
  },
  "language_info": {
   "codemirror_mode": {
    "name": "ipython",
    "version": 3
   },
   "file_extension": ".py",
   "mimetype": "text/x-python",
   "name": "python",
   "nbconvert_exporter": "python",
   "pygments_lexer": "ipython3",
   "version": "3.11.9"
  }
 },
 "nbformat": 4,
 "nbformat_minor": 2
}
